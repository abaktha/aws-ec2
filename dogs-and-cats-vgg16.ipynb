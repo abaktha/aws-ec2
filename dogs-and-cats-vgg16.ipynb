{
 "cells": [
  {
   "cell_type": "code",
   "execution_count": 1,
   "metadata": {
    "collapsed": false
   },
   "outputs": [
    {
     "data": {
      "text/plain": [
       "u'C:\\\\Users\\\\Aravindh\\\\aws-ec2'"
      ]
     },
     "execution_count": 1,
     "metadata": {},
     "output_type": "execute_result"
    }
   ],
   "source": [
    "%pwd"
   ]
  },
  {
   "cell_type": "code",
   "execution_count": 2,
   "metadata": {
    "collapsed": false
   },
   "outputs": [],
   "source": [
    "import os, sys\n",
    "current_dir = os.getcwd()\n",
    "HOME = os.path.join('c:/','Users','Aravindh')\n",
    "#HOME = '/home/ubuntu'\n",
    "DATA_HOME_DIR= os.path.join(HOME,'data','redux')\n",
    "sys.path.append(os.path.expanduser('current_dir+/utils/'))"
   ]
  },
  {
   "cell_type": "code",
   "execution_count": 3,
   "metadata": {
    "collapsed": false
   },
   "outputs": [
    {
     "data": {
      "text/plain": [
       "'c:/Users\\\\Aravindh\\\\data\\\\redux'"
      ]
     },
     "execution_count": 3,
     "metadata": {},
     "output_type": "execute_result"
    }
   ],
   "source": [
    "DATA_HOME_DIR"
   ]
  },
  {
   "cell_type": "code",
   "execution_count": 4,
   "metadata": {
    "collapsed": false,
    "deletable": true,
    "editable": true
   },
   "outputs": [
    {
     "name": "stderr",
     "output_type": "stream",
     "text": [
      "Using Theano backend.\n"
     ]
    }
   ],
   "source": [
    "from Vgg import *\n",
    "import cv2\n",
    "import numpy as np\n",
    "from glob import glob\n",
    "from matplotlib import pyplot as plt\n",
    "%matplotlib inline"
   ]
  },
  {
   "cell_type": "markdown",
   "metadata": {},
   "source": [
    "## Action Plan\n",
    "\n",
    "1. Create Validation and Sample sets\n",
    "2. Rearrange image files into their respective directories\n",
    "3. Finetune and Train model\n",
    "4. Generate predictions\n",
    "5. Validate predictions\n",
    "6. Submit predictions to Kaggle"
   ]
  },
  {
   "cell_type": "markdown",
   "metadata": {},
   "source": [
    "### Create validation and sample sets"
   ]
  },
  {
   "cell_type": "code",
   "execution_count": 37,
   "metadata": {
    "collapsed": false
   },
   "outputs": [],
   "source": [
    "# create directories\n",
    "os.chdir(DATA_HOME_DIR)\n",
    "if not os.path.exists('valid'): os.makedirs('valid')\n",
    "if not os.path.exists('results'): os.makedirs('results')\n",
    "if not os.path.exists(os.path.join('sample','train')): os.makedirs(os.path.join('sample','train'))\n",
    "if not os.path.exists(os.path.join('sample','test')): os.makedirs(os.path.join('sample','test'))\n",
    "if not os.path.exists(os.path.join('sample','valid')): os.makedirs(os.path.join('sample','valid'))\n",
    "if not os.path.exists(os.path.join('sample','results')): os.makedirs(os.path.join('sample','results'))"
   ]
  },
  {
   "cell_type": "code",
   "execution_count": 57,
   "metadata": {
    "collapsed": false
   },
   "outputs": [],
   "source": [
    "# move a subset of the train data to validation directory\n",
    "os.chdir(os.path.join(DATA_HOME_DIR,'train'))\n",
    "g = glob('*.jpg')\n",
    "shuf = np.random.permutation(g) # create a random permutation of cats and dogs\n",
    "for i in range(2000): os.rename(shuf[i],os.path.join(DATA_HOME_DIR,'valid',shuf[i]))"
   ]
  },
  {
   "cell_type": "code",
   "execution_count": 58,
   "metadata": {
    "collapsed": true
   },
   "outputs": [],
   "source": [
    "# create a sample training set\n",
    "os.chdir(os.path.join(DATA_HOME_DIR,'train'))\n",
    "g = glob('*.jpg')\n",
    "shuf = np.random.permutation(g) # create a random permutation of cats and dogs\n",
    "for i in range(200): os.rename(shuf[i],os.path.join(DATA_HOME_DIR,'sample','train',shuf[i]))"
   ]
  },
  {
   "cell_type": "code",
   "execution_count": 59,
   "metadata": {
    "collapsed": true
   },
   "outputs": [],
   "source": [
    "# create a sample vaidation set\n",
    "os.chdir(os.path.join(DATA_HOME_DIR,'train'))\n",
    "g = glob('*.jpg')\n",
    "shuf = np.random.permutation(g) # create a random permutation of cats and dogs\n",
    "for i in range(50): os.rename(shuf[i],os.path.join(DATA_HOME_DIR,'sample','valid',shuf[i]))"
   ]
  },
  {
   "cell_type": "markdown",
   "metadata": {},
   "source": [
    "### Rearrange image files in to their respective directories"
   ]
  },
  {
   "cell_type": "code",
   "execution_count": 62,
   "metadata": {
    "collapsed": false
   },
   "outputs": [],
   "source": [
    "# sample/train\n",
    "os.chdir(os.path.join(DATA_HOME_DIR,'sample','train'))\n",
    "if not os.path.exists('cats'): os.makedirs('cats')\n",
    "if not os.path.exists('dogs'): os.makedirs('dogs')\n",
    "for img in glob('cat*.jpg'): os.rename(img,os.path.join('cats',img))\n",
    "for img in glob('dog*.jpg'): os.rename(img,os.path.join('dogs',img))"
   ]
  },
  {
   "cell_type": "code",
   "execution_count": 63,
   "metadata": {
    "collapsed": true
   },
   "outputs": [],
   "source": [
    "# sample/valid\n",
    "os.chdir(os.path.join(DATA_HOME_DIR,'sample','valid'))\n",
    "if not os.path.exists('cats'): os.makedirs('cats')\n",
    "if not os.path.exists('dogs'): os.makedirs('dogs')\n",
    "for img in glob('cat*.jpg'): os.rename(img,os.path.join('cats',img))\n",
    "for img in glob('dog*.jpg'): os.rename(img,os.path.join('dogs',img))"
   ]
  },
  {
   "cell_type": "code",
   "execution_count": 64,
   "metadata": {
    "collapsed": true
   },
   "outputs": [],
   "source": [
    "# valid\n",
    "os.chdir(os.path.join(DATA_HOME_DIR,'valid'))\n",
    "if not os.path.exists('cats'): os.makedirs('cats')\n",
    "if not os.path.exists('dogs'): os.makedirs('dogs')\n",
    "for img in glob('cat*.jpg'): os.rename(img,os.path.join('cats',img))\n",
    "for img in glob('dog*.jpg'): os.rename(img,os.path.join('dogs',img))"
   ]
  },
  {
   "cell_type": "code",
   "execution_count": 65,
   "metadata": {
    "collapsed": true
   },
   "outputs": [],
   "source": [
    "# train\n",
    "os.chdir(os.path.join(DATA_HOME_DIR,'train'))\n",
    "if not os.path.exists('cats'): os.makedirs('cats')\n",
    "if not os.path.exists('dogs'): os.makedirs('dogs')\n",
    "for img in glob('cat*.jpg'): os.rename(img,os.path.join('cats',img))\n",
    "for img in glob('dog*.jpg'): os.rename(img,os.path.join('dogs',img))"
   ]
  },
  {
   "cell_type": "markdown",
   "metadata": {},
   "source": [
    "### Finetuning and training"
   ]
  },
  {
   "cell_type": "code",
   "execution_count": 5,
   "metadata": {
    "collapsed": false
   },
   "outputs": [],
   "source": [
    "path = DATA_HOME_DIR + '/sample'\n",
    "#path = os.path.join(DATA_HOME_DIR)\n",
    "test_path = os.path.join(DATA_HOME_DIR,'test') #We use all the test data\n",
    "results_path = os.path.join(DATA_HOME_DIR,'results')\n",
    "train_path = os.path.join(path,'train')\n",
    "valid_path = os.path.join(path,'valid')"
   ]
  },
  {
   "cell_type": "code",
   "execution_count": 6,
   "metadata": {
    "collapsed": false
   },
   "outputs": [
    {
     "name": "stdout",
     "output_type": "stream",
     "text": [
      "Hello from Vgg()\n"
     ]
    }
   ],
   "source": [
    "# create model, load weights\n",
    "model = Vgg()\n",
    "model.load_weights(HOME+'/models/vgg16.h5')\n",
    "model.load_imagenet_class_index(HOME+'/models/imagenet_class_index.json')"
   ]
  },
  {
   "cell_type": "code",
   "execution_count": 7,
   "metadata": {
    "collapsed": true
   },
   "outputs": [],
   "source": [
    "# Set batches and epocs\n",
    "batch_size = 64\n",
    "number_of_epochs = 3"
   ]
  },
  {
   "cell_type": "code",
   "execution_count": 8,
   "metadata": {
    "collapsed": false
   },
   "outputs": [
    {
     "name": "stdout",
     "output_type": "stream",
     "text": [
      "Found 200 images belonging to 2 classes.\n",
      "Found 50 images belonging to 2 classes.\n"
     ]
    }
   ],
   "source": [
    "# get and preprocess training images\n",
    "train_batches = model.get_batches(train_path,batch_size=batch_size)\n",
    "val_batches = model.get_batches(valid_path,batch_size=batch_size*2)"
   ]
  },
  {
   "cell_type": "code",
   "execution_count": 9,
   "metadata": {
    "collapsed": false
   },
   "outputs": [],
   "source": [
    "# fine tune model to output two classes instead to vgg's 1000\n",
    "model.finetune(train_batches.nb_class)"
   ]
  },
  {
   "cell_type": "code",
   "execution_count": null,
   "metadata": {
    "collapsed": false
   },
   "outputs": [
    {
     "name": "stdout",
     "output_type": "stream",
     "text": [
      "Epoch 1/1\n",
      "128/200 [==================>...........] - ETA: 510s - loss: 1.0288 - acc: 0.6719\b\b\b\b\b\b\b\b\b\b\b\b\b\b\b\b\b\b\b\b\b\b\b\b\b\b\b\b\b\b\b\b\b\b\b\b\b\b\b\b\b\b\b\b\b\b\b\b\b\b\b\b\b\b\b\b\b\b\b\b\b\b\b\b\b\b\b\b\b\b\b\b\b\b\b\b\b\b\b\b\b"
     ]
    }
   ],
   "source": [
    "# Train model\n",
    "for epochs in range(number_of_epochs): model.fit(train_batches, val_batches, nb_epoch=1)"
   ]
  },
  {
   "cell_type": "code",
   "execution_count": null,
   "metadata": {
    "collapsed": true
   },
   "outputs": [],
   "source": []
  }
 ],
 "metadata": {
  "anaconda-cloud": {},
  "kernelspec": {
   "display_name": "Python 2",
   "language": "python",
   "name": "python2"
  },
  "language_info": {
   "codemirror_mode": {
    "name": "ipython",
    "version": 2
   },
   "file_extension": ".py",
   "mimetype": "text/x-python",
   "name": "python",
   "nbconvert_exporter": "python",
   "pygments_lexer": "ipython2",
   "version": "2.7.13"
  }
 },
 "nbformat": 4,
 "nbformat_minor": 2
}
