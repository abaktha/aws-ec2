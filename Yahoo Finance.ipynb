{
 "cells": [
  {
   "cell_type": "code",
   "execution_count": 1,
   "metadata": {
    "collapsed": true
   },
   "outputs": [],
   "source": [
    "import urllib\n",
    "from bs4 import BeautifulSoup"
   ]
  },
  {
   "cell_type": "code",
   "execution_count": 2,
   "metadata": {
    "collapsed": true
   },
   "outputs": [],
   "source": [
    "html = urllib.urlopen('https://finance.yahoo.com/quote/INTC/key-statistics?p=INTC').read()  # read all of page"
   ]
  },
  {
   "cell_type": "code",
   "execution_count": 4,
   "metadata": {
    "collapsed": false
   },
   "outputs": [],
   "source": [
    "soup = BeautifulSoup(html,'lxml')"
   ]
  },
  {
   "cell_type": "code",
   "execution_count": 5,
   "metadata": {
    "collapsed": false
   },
   "outputs": [],
   "source": [
    "body_tag = soup.find_all('script')[13]"
   ]
  },
  {
   "cell_type": "code",
   "execution_count": 6,
   "metadata": {
    "collapsed": true
   },
   "outputs": [],
   "source": [
    "import re"
   ]
  },
  {
   "cell_type": "code",
   "execution_count": 7,
   "metadata": {
    "collapsed": false
   },
   "outputs": [],
   "source": [
    "stats = re.findall('\"([a-z,A-Z]*)\":{\"raw\":([0-9,\\.]*),',body_tag.decode())"
   ]
  },
  {
   "cell_type": "code",
   "execution_count": 8,
   "metadata": {
    "collapsed": false,
    "scrolled": false
   },
   "outputs": [],
   "source": [
    "mydict = {}\n",
    "for i in range(len(stats)):\n",
    "    mydict[str(stats[i][0])] = float(stats[i][1])"
   ]
  },
  {
   "cell_type": "code",
   "execution_count": 9,
   "metadata": {
    "collapsed": false
   },
   "outputs": [
    {
     "data": {
      "text/plain": [
       "{'ask': 36.43,\n",
       " 'askSize': 200.0,\n",
       " 'averageVolume': 21684582.0,\n",
       " 'beta': 1.12561,\n",
       " 'bid': 36.35,\n",
       " 'bidSize': 5600.0,\n",
       " 'dayHigh': 36.48,\n",
       " 'dayLow': 36.1,\n",
       " 'dividendRate': 1.04,\n",
       " 'dividendYield': 0.0286,\n",
       " 'exDividendDate': 1486080000.0,\n",
       " 'fiftyDayAverage': 36.615883,\n",
       " 'fiftyTwoWeekHigh': 38.45,\n",
       " 'fiftyTwoWeekLow': 28.38,\n",
       " 'fiveYearAvgDividendYield': 3.24,\n",
       " 'forwardPE': 13.3626375,\n",
       " 'marketCap': 172878708736.0,\n",
       " 'open': 36.32,\n",
       " 'payoutRatio': 0.4789,\n",
       " 'postMarketPrice': 36.41,\n",
       " 'previousClose': 36.41,\n",
       " 'regularMarketChange': 0.069999695,\n",
       " 'regularMarketChangePercent': 0.0019225404,\n",
       " 'regularMarketDayHigh': 36.48,\n",
       " 'regularMarketDayLow': 36.1,\n",
       " 'regularMarketOpen': 36.32,\n",
       " 'regularMarketPreviousClose': 36.41,\n",
       " 'regularMarketPrice': 36.48,\n",
       " 'regularMarketTime': 1487370720.0,\n",
       " 'regularMarketVolume': 15831654.0,\n",
       " 'trailingAnnualDividendRate': 1.0,\n",
       " 'trailingAnnualDividendYield': 0.027464982,\n",
       " 'trailingPE': 17.69156,\n",
       " 'twoHundredDayAverage': 36.01964,\n",
       " 'volume': 15831654.0}"
      ]
     },
     "execution_count": 9,
     "metadata": {},
     "output_type": "execute_result"
    }
   ],
   "source": [
    "mydict"
   ]
  },
  {
   "cell_type": "code",
   "execution_count": 10,
   "metadata": {
    "collapsed": true
   },
   "outputs": [],
   "source": [
    "import pandas as pd"
   ]
  },
  {
   "cell_type": "code",
   "execution_count": 14,
   "metadata": {
    "collapsed": false
   },
   "outputs": [
    {
     "data": {
      "text/html": [
       "<div>\n",
       "<table border=\"1\" class=\"dataframe\">\n",
       "  <thead>\n",
       "    <tr style=\"text-align: right;\">\n",
       "      <th></th>\n",
       "      <th>0</th>\n",
       "      <th>1</th>\n",
       "    </tr>\n",
       "  </thead>\n",
       "  <tbody>\n",
       "    <tr>\n",
       "      <th>0</th>\n",
       "      <td>payoutRatio</td>\n",
       "      <td>4.789000e-01</td>\n",
       "    </tr>\n",
       "    <tr>\n",
       "      <th>1</th>\n",
       "      <td>dayHigh</td>\n",
       "      <td>3.648000e+01</td>\n",
       "    </tr>\n",
       "    <tr>\n",
       "      <th>2</th>\n",
       "      <td>averageVolume</td>\n",
       "      <td>2.168458e+07</td>\n",
       "    </tr>\n",
       "    <tr>\n",
       "      <th>3</th>\n",
       "      <td>trailingPE</td>\n",
       "      <td>1.769156e+01</td>\n",
       "    </tr>\n",
       "    <tr>\n",
       "      <th>4</th>\n",
       "      <td>previousClose</td>\n",
       "      <td>3.641000e+01</td>\n",
       "    </tr>\n",
       "    <tr>\n",
       "      <th>5</th>\n",
       "      <td>exDividendDate</td>\n",
       "      <td>1.486080e+09</td>\n",
       "    </tr>\n",
       "    <tr>\n",
       "      <th>6</th>\n",
       "      <td>open</td>\n",
       "      <td>3.632000e+01</td>\n",
       "    </tr>\n",
       "    <tr>\n",
       "      <th>7</th>\n",
       "      <td>regularMarketDayHigh</td>\n",
       "      <td>3.648000e+01</td>\n",
       "    </tr>\n",
       "    <tr>\n",
       "      <th>8</th>\n",
       "      <td>askSize</td>\n",
       "      <td>2.000000e+02</td>\n",
       "    </tr>\n",
       "    <tr>\n",
       "      <th>9</th>\n",
       "      <td>regularMarketVolume</td>\n",
       "      <td>1.583165e+07</td>\n",
       "    </tr>\n",
       "    <tr>\n",
       "      <th>10</th>\n",
       "      <td>regularMarketTime</td>\n",
       "      <td>1.487371e+09</td>\n",
       "    </tr>\n",
       "    <tr>\n",
       "      <th>11</th>\n",
       "      <td>dividendRate</td>\n",
       "      <td>1.040000e+00</td>\n",
       "    </tr>\n",
       "    <tr>\n",
       "      <th>12</th>\n",
       "      <td>regularMarketPrice</td>\n",
       "      <td>3.648000e+01</td>\n",
       "    </tr>\n",
       "    <tr>\n",
       "      <th>13</th>\n",
       "      <td>forwardPE</td>\n",
       "      <td>1.336264e+01</td>\n",
       "    </tr>\n",
       "    <tr>\n",
       "      <th>14</th>\n",
       "      <td>fiftyDayAverage</td>\n",
       "      <td>3.661588e+01</td>\n",
       "    </tr>\n",
       "    <tr>\n",
       "      <th>15</th>\n",
       "      <td>regularMarketDayLow</td>\n",
       "      <td>3.610000e+01</td>\n",
       "    </tr>\n",
       "    <tr>\n",
       "      <th>16</th>\n",
       "      <td>fiveYearAvgDividendYield</td>\n",
       "      <td>3.240000e+00</td>\n",
       "    </tr>\n",
       "    <tr>\n",
       "      <th>17</th>\n",
       "      <td>fiftyTwoWeekLow</td>\n",
       "      <td>2.838000e+01</td>\n",
       "    </tr>\n",
       "    <tr>\n",
       "      <th>18</th>\n",
       "      <td>bid</td>\n",
       "      <td>3.635000e+01</td>\n",
       "    </tr>\n",
       "    <tr>\n",
       "      <th>19</th>\n",
       "      <td>regularMarketChangePercent</td>\n",
       "      <td>1.922540e-03</td>\n",
       "    </tr>\n",
       "    <tr>\n",
       "      <th>20</th>\n",
       "      <td>postMarketPrice</td>\n",
       "      <td>3.641000e+01</td>\n",
       "    </tr>\n",
       "    <tr>\n",
       "      <th>21</th>\n",
       "      <td>dividendYield</td>\n",
       "      <td>2.860000e-02</td>\n",
       "    </tr>\n",
       "    <tr>\n",
       "      <th>22</th>\n",
       "      <td>volume</td>\n",
       "      <td>1.583165e+07</td>\n",
       "    </tr>\n",
       "    <tr>\n",
       "      <th>23</th>\n",
       "      <td>beta</td>\n",
       "      <td>1.125610e+00</td>\n",
       "    </tr>\n",
       "    <tr>\n",
       "      <th>24</th>\n",
       "      <td>trailingAnnualDividendRate</td>\n",
       "      <td>1.000000e+00</td>\n",
       "    </tr>\n",
       "    <tr>\n",
       "      <th>25</th>\n",
       "      <td>ask</td>\n",
       "      <td>3.643000e+01</td>\n",
       "    </tr>\n",
       "    <tr>\n",
       "      <th>26</th>\n",
       "      <td>bidSize</td>\n",
       "      <td>5.600000e+03</td>\n",
       "    </tr>\n",
       "    <tr>\n",
       "      <th>27</th>\n",
       "      <td>regularMarketPreviousClose</td>\n",
       "      <td>3.641000e+01</td>\n",
       "    </tr>\n",
       "    <tr>\n",
       "      <th>28</th>\n",
       "      <td>twoHundredDayAverage</td>\n",
       "      <td>3.601964e+01</td>\n",
       "    </tr>\n",
       "    <tr>\n",
       "      <th>29</th>\n",
       "      <td>fiftyTwoWeekHigh</td>\n",
       "      <td>3.845000e+01</td>\n",
       "    </tr>\n",
       "    <tr>\n",
       "      <th>30</th>\n",
       "      <td>regularMarketOpen</td>\n",
       "      <td>3.632000e+01</td>\n",
       "    </tr>\n",
       "    <tr>\n",
       "      <th>31</th>\n",
       "      <td>dayLow</td>\n",
       "      <td>3.610000e+01</td>\n",
       "    </tr>\n",
       "    <tr>\n",
       "      <th>32</th>\n",
       "      <td>regularMarketChange</td>\n",
       "      <td>6.999970e-02</td>\n",
       "    </tr>\n",
       "    <tr>\n",
       "      <th>33</th>\n",
       "      <td>trailingAnnualDividendYield</td>\n",
       "      <td>2.746498e-02</td>\n",
       "    </tr>\n",
       "    <tr>\n",
       "      <th>34</th>\n",
       "      <td>marketCap</td>\n",
       "      <td>1.728787e+11</td>\n",
       "    </tr>\n",
       "  </tbody>\n",
       "</table>\n",
       "</div>"
      ],
      "text/plain": [
       "                              0             1\n",
       "0                   payoutRatio  4.789000e-01\n",
       "1                       dayHigh  3.648000e+01\n",
       "2                 averageVolume  2.168458e+07\n",
       "3                    trailingPE  1.769156e+01\n",
       "4                 previousClose  3.641000e+01\n",
       "5                exDividendDate  1.486080e+09\n",
       "6                          open  3.632000e+01\n",
       "7          regularMarketDayHigh  3.648000e+01\n",
       "8                       askSize  2.000000e+02\n",
       "9           regularMarketVolume  1.583165e+07\n",
       "10            regularMarketTime  1.487371e+09\n",
       "11                 dividendRate  1.040000e+00\n",
       "12           regularMarketPrice  3.648000e+01\n",
       "13                    forwardPE  1.336264e+01\n",
       "14              fiftyDayAverage  3.661588e+01\n",
       "15          regularMarketDayLow  3.610000e+01\n",
       "16     fiveYearAvgDividendYield  3.240000e+00\n",
       "17              fiftyTwoWeekLow  2.838000e+01\n",
       "18                          bid  3.635000e+01\n",
       "19   regularMarketChangePercent  1.922540e-03\n",
       "20              postMarketPrice  3.641000e+01\n",
       "21                dividendYield  2.860000e-02\n",
       "22                       volume  1.583165e+07\n",
       "23                         beta  1.125610e+00\n",
       "24   trailingAnnualDividendRate  1.000000e+00\n",
       "25                          ask  3.643000e+01\n",
       "26                      bidSize  5.600000e+03\n",
       "27   regularMarketPreviousClose  3.641000e+01\n",
       "28         twoHundredDayAverage  3.601964e+01\n",
       "29             fiftyTwoWeekHigh  3.845000e+01\n",
       "30            regularMarketOpen  3.632000e+01\n",
       "31                       dayLow  3.610000e+01\n",
       "32          regularMarketChange  6.999970e-02\n",
       "33  trailingAnnualDividendYield  2.746498e-02\n",
       "34                    marketCap  1.728787e+11"
      ]
     },
     "execution_count": 14,
     "metadata": {},
     "output_type": "execute_result"
    }
   ],
   "source": [
    "pd.DataFrame.from_dict(mydict.items())"
   ]
  },
  {
   "cell_type": "code",
   "execution_count": null,
   "metadata": {
    "collapsed": true
   },
   "outputs": [],
   "source": []
  }
 ],
 "metadata": {
  "kernelspec": {
   "display_name": "Python 2",
   "language": "python",
   "name": "python2"
  },
  "language_info": {
   "codemirror_mode": {
    "name": "ipython",
    "version": 2
   },
   "file_extension": ".py",
   "mimetype": "text/x-python",
   "name": "python",
   "nbconvert_exporter": "python",
   "pygments_lexer": "ipython2",
   "version": "2.7.13"
  }
 },
 "nbformat": 4,
 "nbformat_minor": 2
}
