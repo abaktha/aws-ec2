{
 "cells": [
  {
   "cell_type": "code",
   "execution_count": 1,
   "metadata": {
    "collapsed": true
   },
   "outputs": [],
   "source": [
    "import urllib2"
   ]
  },
  {
   "cell_type": "code",
   "execution_count": 3,
   "metadata": {
    "collapsed": false
   },
   "outputs": [],
   "source": [
    "from bs4 import BeautifulSoup"
   ]
  },
  {
   "cell_type": "code",
   "execution_count": 9,
   "metadata": {
    "collapsed": false
   },
   "outputs": [],
   "source": [
    "html = urllib2.urlopen('http://spec.org/cpu2006/results/res2017q1/cpu2006-20161227-46366.txt')"
   ]
  },
  {
   "cell_type": "code",
   "execution_count": 10,
   "metadata": {
    "collapsed": false
   },
   "outputs": [],
   "source": [
    "soup = BeautifulSoup(html,'lxml')"
   ]
  },
  {
   "cell_type": "code",
   "execution_count": 75,
   "metadata": {
    "collapsed": false
   },
   "outputs": [
    {
     "data": {
      "text/plain": [
       "[u'SPEC(R) CINT2006 Summary',\n",
       " u'                                Cisco Systems',\n",
       " u'                Cisco UCS C220 M4 (Intel Xeon E5-2623 v4  2.60',\n",
       " u'                                     GHz)',\n",
       " u'                           Thu Dec 15 05:39:00 2016',\n",
       " u'',\n",
       " u'CPU2006 License: 9019                                    Test date: Dec-2016',\n",
       " u'Test sponsor: Cisco Systems                  Hardware availability: Apr-2016',\n",
       " u'Tested by:    Cisco Systems                  Software availability: Dec-2015',\n",
       " u'',\n",
       " u'                Base     Base       Base        Peak     Peak       Peak',\n",
       " u'Benchmarks      Ref.   Run Time     Ratio       Ref.   Run Time     Ratio',\n",
       " u'-------------- ------  ---------  ---------    ------  ---------  ---------',\n",
       " u'400.perlbench    9770     262          37.3 S    9770     239          40.8 S  ',\n",
       " u'400.perlbench    9770     260          37.5 *    9770     239          40.9 *  ',\n",
       " u'400.perlbench    9770     260          37.6 S    9770     239          40.9 S  ',\n",
       " u'401.bzip2        9650     415          23.3 S    9650     406          23.8 *  ',\n",
       " u'401.bzip2        9650     411          23.5 S    9650     406          23.8 S  ',\n",
       " u'401.bzip2        9650     414          23.3 *    9650     405          23.8 S  ',\n",
       " u'403.gcc          8050     247          32.6 *    8050     248          32.4 S  ',\n",
       " u'403.gcc          8050     247          32.5 S    8050     250          32.2 *  ',\n",
       " u'403.gcc          8050     247          32.6 S    8050     251          32.1 S  ',\n",
       " u'429.mcf          9120     148          61.7 *    9120     149          61.4 *  ',\n",
       " u'429.mcf          9120     149          61.1 S    9120     149          61.2 S  ',\n",
       " u'429.mcf          9120     147          62.0 S    9120     147          62.1 S  ',\n",
       " u'445.gobmk       10490     389          27.0 *   10490     390          26.9 S  ',\n",
       " u'445.gobmk       10490     388          27.0 S   10490     390          26.9 *  ',\n",
       " u'445.gobmk       10490     389          27.0 S   10490     390          26.9 S  ',\n",
       " u'456.hmmer        9330     118          78.9 *    9330     118          78.9 *  ',\n",
       " u'456.hmmer        9330     118          79.0 S    9330     118          79.0 S  ',\n",
       " u'456.hmmer        9330     118          78.9 S    9330     118          78.9 S  ',\n",
       " u'458.sjeng       12100     387          31.3 S   12100     383          31.6 S  ',\n",
       " u'458.sjeng       12100     387          31.3 S   12100     383          31.6 S  ',\n",
       " u'458.sjeng       12100     387          31.3 *   12100     383          31.6 *  ',\n",
       " u'462.libquantum  20720       7.20     2880   S   20720       7.20     2880   S  ',\n",
       " u'462.libquantum  20720       6.79     3050   *   20720       6.79     3050   *  ',\n",
       " u'462.libquantum  20720       6.78     3060   S   20720       6.78     3060   S  ',\n",
       " u'464.h264ref     22130     406          54.5 *   22130     406          54.5 *  ',\n",
       " u'464.h264ref     22130     407          54.4 S   22130     407          54.4 S  ',\n",
       " u'464.h264ref     22130     405          54.7 S   22130     405          54.7 S  ',\n",
       " u'471.omnetpp      6250     283          22.1 S    6250     231          27.1 *  ',\n",
       " u'471.omnetpp      6250     291          21.5 S    6250     231          27.1 S  ',\n",
       " u'471.omnetpp      6250     284          22.0 *    6250     232          26.9 S  ',\n",
       " u'473.astar        7020     219          32.0 *    7020     219          32.0 *  ',\n",
       " u'473.astar        7020     221          31.8 S    7020     217          32.3 S  ',\n",
       " u'473.astar        7020     217          32.3 S    7020     220          31.9 S  ',\n",
       " u'483.xalancbmk    6900     105          65.6 S    6900      94.7        72.9 *  ',\n",
       " u'483.xalancbmk    6900     106          64.9 S    6900      94.7        72.9 S  ',\n",
       " u'483.xalancbmk    6900     105          65.5 *    6900      94.7        72.9 S  ',\n",
       " u'==============================================================================',\n",
       " u'400.perlbench    9770     260          37.5 *    9770     239          40.9 *  ',\n",
       " u'401.bzip2        9650     414          23.3 *    9650     406          23.8 *  ',\n",
       " u'403.gcc          8050     247          32.6 *    8050     250          32.2 *  ',\n",
       " u'429.mcf          9120     148          61.7 *    9120     149          61.4 *  ',\n",
       " u'445.gobmk       10490     389          27.0 *   10490     390          26.9 *  ',\n",
       " u'456.hmmer        9330     118          78.9 *    9330     118          78.9 *  ',\n",
       " u'458.sjeng       12100     387          31.3 *   12100     383          31.6 *  ',\n",
       " u'462.libquantum  20720       6.79     3050   *   20720       6.79     3050   *  ',\n",
       " u'464.h264ref     22130     406          54.5 *   22130     406          54.5 *  ',\n",
       " u'471.omnetpp      6250     284          22.0 *    6250     231          27.1 *  ',\n",
       " u'473.astar        7020     219          32.0 *    7020     219          32.0 *  ',\n",
       " u'483.xalancbmk    6900     105          65.5 *    6900      94.7        72.9 *  ',\n",
       " u' SPECint(R)_base2006                   55.7',\n",
       " u' SPECint2006                                                           57.7',\n",
       " u'',\n",
       " u'',\n",
       " u'                                   HARDWARE',\n",
       " u'                                   --------',\n",
       " u'            CPU Name: Intel Xeon E5-2623 v4',\n",
       " u' CPU Characteristics: Intel Turbo Boost Technology up to 3.20 GHz',\n",
       " u'             CPU MHz: 2600',\n",
       " u'                 FPU: Integrated',\n",
       " u'      CPU(s) enabled: 8 cores, 2 chips, 4 cores/chip',\n",
       " u'    CPU(s) orderable: 1,2 chips',\n",
       " u'       Primary Cache: 32 KB I + 32 KB D on chip per core',\n",
       " u'     Secondary Cache: 256 KB I+D on chip per core',\n",
       " u'            L3 Cache: 10 MB I+D on chip per chip',\n",
       " u'         Other Cache: None',\n",
       " u'              Memory: 256 GB (16 x 16 GB 2Rx4 PC4-2400T-R,',\n",
       " u'                      running at 2133 MHz)',\n",
       " u'      Disk Subsystem: 1 x 960 GB SAS SSD',\n",
       " u'      Other Hardware: None',\n",
       " u'',\n",
       " u'',\n",
       " u'                                   SOFTWARE',\n",
       " u'                                   --------',\n",
       " u'    Operating System: SUSE Linux Enterprise Server 12 SP1 (x86_64)',\n",
       " u'                      3.12.49-11-default',\n",
       " u'            Compiler: C/C++: Version 16.0.0.101 of Intel C++ Studio XE',\n",
       " u'                      for Linux',\n",
       " u'       Auto Parallel: Yes',\n",
       " u'         File System: xfs',\n",
       " u'        System State: Run level 3 (multi-user)',\n",
       " u'       Base Pointers: 32/64-bit',\n",
       " u'       Peak Pointers: 32/64-bit',\n",
       " u'      Other Software: Microquill SmartHeap V10.2',\n",
       " u'',\n",
       " u'',\n",
       " u'                                 Submit Notes',\n",
       " u'                                 ------------',\n",
       " u\"    The config file option 'submit' was used.\",\n",
       " u'',\n",
       " u'                            Operating System Notes',\n",
       " u'                            ----------------------',\n",
       " u'     Stack size set to unlimited using \"ulimit -s unlimited\"',\n",
       " u'',\n",
       " u'                                Platform Notes',\n",
       " u'                                --------------',\n",
       " u'    BIOS Settings:',\n",
       " u'    Intel Hyper-Threading Technology option set to Disabled',\n",
       " u'    CPU performance set to Enterprise',\n",
       " u'    Power Technology set to Energy Efficient',\n",
       " u'    Energy Performance BIAS setting set to Balanced Performance',\n",
       " u'    Memory RAS configuration set to Maximum Performance',\n",
       " u'    Memory Power Saving Mode set to Disabled',\n",
       " u'    QPI Snoop Mode set to Home Directory Snoop with OSB',\n",
       " u'     Sysinfo program /opt/cpu2006-1.2/config/sysinfo.rev6914',\n",
       " u'     $Rev: 6914 $ $Date:: 2014-06-25 #$ e3fbb8667b5a285932ceab81e28219e1',\n",
       " u'     running on linux-40jf Thu Dec 15 16:09:01 2016',\n",
       " u'    ',\n",
       " u'     This section contains SUT (System Under Test) info as seen by',\n",
       " u'     some common utilities.  To remove or add to this section, see:',\n",
       " u'       http://www.spec.org/cpu2006/Docs/config.html#sysinfo',\n",
       " u'    ',\n",
       " u'     From /proc/cpuinfo',\n",
       " u'        model name : Intel(R) Xeon(R) CPU E5-2623 v4 @ 2.60GHz',\n",
       " u'           2 \"physical id\"s (chips)',\n",
       " u'           8 \"processors\"',\n",
       " u'        cores, siblings (Caution: counting these is hw and system dependent.  The',\n",
       " u'        following excerpts from /proc/cpuinfo might not be reliable.  Use with',\n",
       " u'        caution.)',\n",
       " u'           cpu cores : 4',\n",
       " u'           siblings  : 4',\n",
       " u'           physical 0: cores 0 1 2 3',\n",
       " u'           physical 1: cores 0 1 2 3',\n",
       " u'        cache size : 10240 KB',\n",
       " u'    ',\n",
       " u'     From /proc/meminfo',\n",
       " u'        MemTotal:       264570780 kB',\n",
       " u'        HugePages_Total:       0',\n",
       " u'        Hugepagesize:       2048 kB',\n",
       " u'    ',\n",
       " u'     From /etc/*release* /etc/*version*',\n",
       " u'        SuSE-release:',\n",
       " u'           SUSE Linux Enterprise Server 12 (x86_64)',\n",
       " u'           VERSION = 12',\n",
       " u'           PATCHLEVEL = 1',\n",
       " u'           # This file is deprecated and will be removed in a future service pack or',\n",
       " u'           release.',\n",
       " u'           # Please check /etc/os-release for details about this release.',\n",
       " u'        os-release:',\n",
       " u'           NAME=\"SLES\"',\n",
       " u'           VERSION=\"12-SP1\"',\n",
       " u'           VERSION_ID=\"12.1\"',\n",
       " u'           PRETTY_NAME=\"SUSE Linux Enterprise Server 12 SP1\"',\n",
       " u'           ID=\"sles\"',\n",
       " u'           ANSI_COLOR=\"0;32\"',\n",
       " u'           CPE_NAME=\"cpe:/o:suse:sles:12:sp1\"',\n",
       " u'    ',\n",
       " u'     uname -a:',\n",
       " u'        Linux linux-40jf 3.12.49-11-default #1 SMP Wed Nov 11 20:52:43 UTC 2015',\n",
       " u'        (8d714a0) x86_64 x86_64 x86_64 GNU/Linux',\n",
       " u'    ',\n",
       " u'     run-level 3 Dec 15 00:39',\n",
       " u'    ',\n",
       " u'     SPEC is set to: /opt/cpu2006-1.2',\n",
       " u'        Filesystem     Type  Size  Used Avail Use% Mounted on',\n",
       " u'        /dev/sda1      xfs   893G   17G  877G   2% /',\n",
       " u'     Additional information from dmidecode:',\n",
       " u'    ',\n",
       " u\"        Warning: Use caution when you interpret this section. The 'dmidecode' program\",\n",
       " u'        reads system data which is \"intended to allow hardware to be accurately',\n",
       " u'        determined\", but the intent may not be met, as there are frequent changes to',\n",
       " u'        hardware, firmware, and the \"DMTF SMBIOS\" standard.',\n",
       " u'    ',\n",
       " u'       BIOS Cisco Systems, Inc. C220M4.2.0.13d.0.0812161113 08/12/2016',\n",
       " u'       Memory:',\n",
       " u'        16x 0xCE00 M393A2G40EB1-CRC 16 GB 2 rank 2400 MHz, configured at 2133 MHz',\n",
       " u'        8x NO DIMM NO DIMM',\n",
       " u'    ',\n",
       " u'     (End of data from sysinfo program)',\n",
       " u'',\n",
       " u'                                General Notes',\n",
       " u'                                -------------',\n",
       " u'    Environment variables set by runspec before the start of the run:',\n",
       " u'    KMP_AFFINITY = \"granularity=fine,compact\"',\n",
       " u'    LD_LIBRARY_PATH = \"/opt/cpu2006-1.2/libs/32:/opt/cpu2006-1.2/libs/64:/opt/cpu2006-1.2/sh\"',\n",
       " u'    OMP_NUM_THREADS = \"8\"',\n",
       " u'    ',\n",
       " u'     Binaries compiled on a system with 1x Intel Core i5-4670K CPU + 32GB',\n",
       " u'     memory using RedHat EL 7.1',\n",
       " u'     Transparent Huge Pages enabled with:',\n",
       " u'     echo always > /sys/kernel/mm/transparent_hugepage/enabled',\n",
       " u'',\n",
       " u'                           Base Compiler Invocation',\n",
       " u'                           ------------------------',\n",
       " u'C benchmarks: ',\n",
       " u'     icc  -m64',\n",
       " u'',\n",
       " u'C++ benchmarks: ',\n",
       " u'     icpc -m64',\n",
       " u'',\n",
       " u'',\n",
       " u'                            Base Portability Flags',\n",
       " u'                            ----------------------',\n",
       " u'  400.perlbench: -DSPEC_CPU_LP64 -DSPEC_CPU_LINUX_X64',\n",
       " u'      401.bzip2: -DSPEC_CPU_LP64',\n",
       " u'        403.gcc: -DSPEC_CPU_LP64',\n",
       " u'        429.mcf: -DSPEC_CPU_LP64',\n",
       " u'      445.gobmk: -DSPEC_CPU_LP64',\n",
       " u'      456.hmmer: -DSPEC_CPU_LP64',\n",
       " u'      458.sjeng: -DSPEC_CPU_LP64',\n",
       " u' 462.libquantum: -DSPEC_CPU_LP64 -DSPEC_CPU_LINUX',\n",
       " u'    464.h264ref: -DSPEC_CPU_LP64',\n",
       " u'    471.omnetpp: -DSPEC_CPU_LP64',\n",
       " u'      473.astar: -DSPEC_CPU_LP64',\n",
       " u'  483.xalancbmk: -DSPEC_CPU_LP64 -DSPEC_CPU_LINUX',\n",
       " u'',\n",
       " u'',\n",
       " u'                           Base Optimization Flags',\n",
       " u'                           -----------------------',\n",
       " u'C benchmarks: ',\n",
       " u'     -xCORE-AVX2 -ipo -O3 -no-prec-div -parallel -opt-prefetch -auto-p32',\n",
       " u'',\n",
       " u'C++ benchmarks: ',\n",
       " u'     -xCORE-AVX2 -ipo -O3 -no-prec-div -opt-prefetch -auto-p32 -Wl,-z,muldefs',\n",
       " u'     -L/sh -lsmartheap64',\n",
       " u'',\n",
       " u'',\n",
       " u'                               Base Other Flags',\n",
       " u'                               ----------------',\n",
       " u'C benchmarks:',\n",
       " u'',\n",
       " u'        403.gcc: -Dalloca=_alloca',\n",
       " u'',\n",
       " u'',\n",
       " u'                           Peak Compiler Invocation',\n",
       " u'                           ------------------------',\n",
       " u'C benchmarks (except as noted below): ',\n",
       " u'     icc  -m64',\n",
       " u'',\n",
       " u'  400.perlbench: icc -m32 -L/opt/intel/compilers_and_libraries_2016/linux/compiler/lib/ia32_lin',\n",
       " u'',\n",
       " u'      445.gobmk: icc -m32 -L/opt/intel/compilers_and_libraries_2016/linux/compiler/lib/ia32_lin',\n",
       " u'',\n",
       " u'C++ benchmarks (except as noted below): ',\n",
       " u'     icpc -m32 -L/opt/intel/compilers_and_libraries_2016/linux/compiler/lib/ia32_lin',\n",
       " u'',\n",
       " u'      473.astar: icpc -m64',\n",
       " u'',\n",
       " u'',\n",
       " u'                            Peak Portability Flags',\n",
       " u'                            ----------------------',\n",
       " u'  400.perlbench: -D_FILE_OFFSET_BITS=64 -DSPEC_CPU_LINUX_IA32',\n",
       " u'      401.bzip2: -DSPEC_CPU_LP64',\n",
       " u'        403.gcc: -DSPEC_CPU_LP64',\n",
       " u'        429.mcf: -DSPEC_CPU_LP64',\n",
       " u'      445.gobmk: -D_FILE_OFFSET_BITS=64',\n",
       " u'      456.hmmer: -DSPEC_CPU_LP64',\n",
       " u'      458.sjeng: -DSPEC_CPU_LP64',\n",
       " u' 462.libquantum: -DSPEC_CPU_LP64 -DSPEC_CPU_LINUX',\n",
       " u'    464.h264ref: -DSPEC_CPU_LP64',\n",
       " u'    471.omnetpp: -D_FILE_OFFSET_BITS=64',\n",
       " u'      473.astar: -DSPEC_CPU_LP64',\n",
       " u'  483.xalancbmk: -D_FILE_OFFSET_BITS=64 -DSPEC_CPU_LINUX',\n",
       " u'',\n",
       " u'',\n",
       " u'                           Peak Optimization Flags',\n",
       " u'                           -----------------------',\n",
       " u'C benchmarks:',\n",
       " u'',\n",
       " u'  400.perlbench: -xCORE-AVX2(pass 2) -prof-gen:threadsafe(pass 1)',\n",
       " u'                 -ipo(pass 2) -O3(pass 2) -no-prec-div(pass 2)',\n",
       " u'                 -par-num-threads=1(pass 1) -prof-use(pass 2) -opt-prefetch',\n",
       " u'                 -ansi-alias',\n",
       " u'',\n",
       " u'      401.bzip2: -xCORE-AVX2(pass 2) -prof-gen:threadsafe(pass 1)',\n",
       " u'                 -ipo(pass 2) -O3(pass 2) -no-prec-div',\n",
       " u'                 -par-num-threads=1(pass 1) -prof-use(pass 2) -auto-ilp32',\n",
       " u'                 -opt-prefetch -ansi-alias',\n",
       " u'',\n",
       " u'        403.gcc: -xCORE-AVX2 -ipo -O3 -no-prec-div -inline-calloc',\n",
       " u'                 -opt-malloc-options=3 -auto-ilp32',\n",
       " u'',\n",
       " u'        429.mcf: -xCORE-AVX2 -ipo -O3 -no-prec-div -parallel -opt-prefetch',\n",
       " u'                 -auto-p32',\n",
       " u'',\n",
       " u'      445.gobmk: -xCORE-AVX2(pass 2) -prof-gen:threadsafe(pass 1)',\n",
       " u'                 -prof-use(pass 2) -par-num-threads=1(pass 1) -ansi-alias',\n",
       " u'',\n",
       " u'      456.hmmer: basepeak = yes',\n",
       " u'',\n",
       " u'      458.sjeng: -xCORE-AVX2(pass 2) -prof-gen:threadsafe(pass 1)',\n",
       " u'                 -ipo(pass 2) -O3(pass 2) -no-prec-div(pass 2)',\n",
       " u'                 -par-num-threads=1(pass 1) -prof-use(pass 2) -unroll4',\n",
       " u'',\n",
       " u' 462.libquantum: basepeak = yes',\n",
       " u'',\n",
       " u'    464.h264ref: basepeak = yes',\n",
       " u'',\n",
       " u'C++ benchmarks:',\n",
       " u'',\n",
       " u'    471.omnetpp: -xCORE-AVX2(pass 2) -prof-gen:threadsafe(pass 1)',\n",
       " u'                 -ipo(pass 2) -O3(pass 2) -no-prec-div(pass 2)',\n",
       " u'                 -par-num-threads=1(pass 1) -prof-use(pass 2)',\n",
       " u'                 -opt-ra-region-strategy=block             -ansi-alias',\n",
       " u'                 -Wl,-z,muldefs -L/sh -lsmartheap',\n",
       " u'',\n",
       " u'      473.astar: -xCORE-AVX2 -ipo -O3 -no-prec-div -opt-prefetch -auto-p32',\n",
       " u'                 -Wl,-z,muldefs -L/sh -lsmartheap64',\n",
       " u'',\n",
       " u'  483.xalancbmk: -xCORE-AVX2 -ipo -O3 -no-prec-div -opt-prefetch -ansi-alias',\n",
       " u'                 -Wl,-z,muldefs -L/sh -lsmartheap',\n",
       " u'',\n",
       " u'',\n",
       " u'                               Peak Other Flags',\n",
       " u'                               ----------------',\n",
       " u'C benchmarks:',\n",
       " u'',\n",
       " u'        403.gcc: -Dalloca=_alloca',\n",
       " u'',\n",
       " u'',\n",
       " u'The flags files that were used to format this result can be browsed at',\n",
       " u'http://www.spec.org/cpu2006/flags/Intel-ic16.0-official-linux64.html',\n",
       " u'http://www.spec.org/cpu2006/flags/Cisco-Platform-Settings-V1.2-revE.html',\n",
       " u'',\n",
       " u'You can also download the XML flags sources by saving the following links:',\n",
       " u'http://www.spec.org/cpu2006/flags/Intel-ic16.0-official-linux64.xml',\n",
       " u'http://www.spec.org/cpu2006/flags/Cisco-Platform-Settings-V1.2-revE.xml',\n",
       " u'',\n",
       " u'    SPEC and SPECint are registered trademarks of the Standard Performance',\n",
       " u'    Evaluation Corporation.  All other brand and product names appearing',\n",
       " u'    in this result are trademarks or registered trademarks of their',\n",
       " u'    respective holders.',\n",
       " u'-----------------------------------------------------------------------------',\n",
       " u'For questions about this result, please contact the tester.',\n",
       " u'For other inquiries, please contact webmaster@spec.org.',\n",
       " u'Copyright 2006-2017 Standard Performance Evaluation Corporation',\n",
       " u'Tested with SPEC CPU2006 v1.2.',\n",
       " u'Report generated on Wed Jan 11 10:34:49 2017 by CPU2006 ASCII formatter v6932.',\n",
       " u'Originally published on 10 January 2017.']"
      ]
     },
     "execution_count": 75,
     "metadata": {},
     "output_type": "execute_result"
    }
   ],
   "source": [
    "soup.body.string.splitlines()"
   ]
  },
  {
   "cell_type": "code",
   "execution_count": 20,
   "metadata": {
    "collapsed": true
   },
   "outputs": [],
   "source": [
    "with open(\"tmp.txt\",\"w\") as txtfile : txtfile.write(soup.body.string)"
   ]
  },
  {
   "cell_type": "code",
   "execution_count": 21,
   "metadata": {
    "collapsed": true
   },
   "outputs": [],
   "source": [
    "import re"
   ]
  },
  {
   "cell_type": "code",
   "execution_count": 37,
   "metadata": {
    "collapsed": false
   },
   "outputs": [],
   "source": [
    "CPUName = re.findall('CPU Name:\\s*(.*)\\n',soup.body.string)[0]"
   ]
  },
  {
   "cell_type": "code",
   "execution_count": 38,
   "metadata": {
    "collapsed": false
   },
   "outputs": [
    {
     "name": "stdout",
     "output_type": "stream",
     "text": [
      "Intel Xeon E5-2623 v4\n"
     ]
    }
   ],
   "source": [
    "print CPUName"
   ]
  },
  {
   "cell_type": "code",
   "execution_count": 114,
   "metadata": {
    "collapsed": false
   },
   "outputs": [
    {
     "data": {
      "text/plain": [
       "[(u'400.perlbench',\n",
       "  u'9770',\n",
       "  u'260',\n",
       "  u'37.5',\n",
       "  u'*',\n",
       "  u'9770',\n",
       "  u'239',\n",
       "  u'40.9',\n",
       "  u'*')]"
      ]
     },
     "execution_count": 114,
     "metadata": {},
     "output_type": "execute_result"
    }
   ],
   "source": [
    "re.findall('=+\\n(\\S*)\\s+(\\S*)\\s+(\\S*)\\s+(\\S*)\\s+(\\S*)\\s+(\\S*)\\s+(\\S*)\\s+(\\S*)\\s+(\\S*)\\s*\\n.*',soup.body.string,re.MULTILINE)"
   ]
  },
  {
   "cell_type": "code",
   "execution_count": 68,
   "metadata": {
    "collapsed": false
   },
   "outputs": [
    {
     "data": {
      "text/plain": [
       "[u'400.perlbench    9770     260          37.5 *    9770     239          40.9 *  ']"
      ]
     },
     "execution_count": 68,
     "metadata": {},
     "output_type": "execute_result"
    }
   ],
   "source": [
    "re.findall('=+\\n(.*)',soup.body.string)"
   ]
  },
  {
   "cell_type": "code",
   "execution_count": 107,
   "metadata": {
    "collapsed": false
   },
   "outputs": [],
   "source": [
    "regex = re.compile((\"=+.*perl\"))\n",
    "x = [l for l in soup.body.string if regex.findall(l)]"
   ]
  },
  {
   "cell_type": "code",
   "execution_count": 108,
   "metadata": {
    "collapsed": false
   },
   "outputs": [
    {
     "data": {
      "text/plain": [
       "[]"
      ]
     },
     "execution_count": 108,
     "metadata": {},
     "output_type": "execute_result"
    }
   ],
   "source": [
    "x"
   ]
  },
  {
   "cell_type": "code",
   "execution_count": 141,
   "metadata": {
    "collapsed": false
   },
   "outputs": [],
   "source": [
    "bm = re.findall('=+\\s*([\\s\\S]*?)\\s*SPECint\\(R\\)',soup.body.string)[0]"
   ]
  },
  {
   "cell_type": "code",
   "execution_count": 148,
   "metadata": {
    "collapsed": false
   },
   "outputs": [
    {
     "data": {
      "text/plain": [
       "[u'400.perlbench    9770     260          37.5 *    9770     239          40.9 *  ',\n",
       " u'401.bzip2        9650     414          23.3 *    9650     406          23.8 *  ',\n",
       " u'403.gcc          8050     247          32.6 *    8050     250          32.2 *  ',\n",
       " u'429.mcf          9120     148          61.7 *    9120     149          61.4 *  ',\n",
       " u'445.gobmk       10490     389          27.0 *   10490     390          26.9 *  ',\n",
       " u'456.hmmer        9330     118          78.9 *    9330     118          78.9 *  ',\n",
       " u'458.sjeng       12100     387          31.3 *   12100     383          31.6 *  ',\n",
       " u'462.libquantum  20720       6.79     3050   *   20720       6.79     3050   *  ',\n",
       " u'464.h264ref     22130     406          54.5 *   22130     406          54.5 *  ',\n",
       " u'471.omnetpp      6250     284          22.0 *    6250     231          27.1 *  ',\n",
       " u'473.astar        7020     219          32.0 *    7020     219          32.0 *  ',\n",
       " u'483.xalancbmk    6900     105          65.5 *    6900      94.7        72.9 *']"
      ]
     },
     "execution_count": 148,
     "metadata": {},
     "output_type": "execute_result"
    }
   ],
   "source": [
    "bm.splitlines()"
   ]
  },
  {
   "cell_type": "code",
   "execution_count": null,
   "metadata": {
    "collapsed": true
   },
   "outputs": [],
   "source": []
  }
 ],
 "metadata": {
  "kernelspec": {
   "display_name": "Python 2",
   "language": "python",
   "name": "python2"
  },
  "language_info": {
   "codemirror_mode": {
    "name": "ipython",
    "version": 2
   },
   "file_extension": ".py",
   "mimetype": "text/x-python",
   "name": "python",
   "nbconvert_exporter": "python",
   "pygments_lexer": "ipython2",
   "version": "2.7.13"
  }
 },
 "nbformat": 4,
 "nbformat_minor": 2
}
