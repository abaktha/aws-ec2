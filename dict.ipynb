{
 "cells": [
  {
   "cell_type": "code",
   "execution_count": 127,
   "metadata": {
    "collapsed": true
   },
   "outputs": [],
   "source": [
    "import numpy as np\n",
    "import pandas as pd"
   ]
  },
  {
   "cell_type": "code",
   "execution_count": 158,
   "metadata": {
    "collapsed": false
   },
   "outputs": [],
   "source": [
    "data = {'a57': {'Leakage': np.arange(100,220,20),\n",
    "                'V':np.arange(.6,1.2,.1),\n",
    "                'F':np.arange(1000,2200,200),\n",
    "                'SpecInt2k':{'Cdyn':0.46,\n",
    "                             'Perf':np.arange(1000,2200,200)*.85,\n",
    "                             'Power':np.arange(1000,2200,200)*.46*np.arange(.6,1.2,.1)**2.4}}}"
   ]
  },
  {
   "cell_type": "code",
   "execution_count": 160,
   "metadata": {
    "collapsed": false
   },
   "outputs": [],
   "source": [
    "scale = {'a73': {'v_scale':1,\n",
    "                 'f_scale':1.1,\n",
    "                 'leakage_scale':1.1,\n",
    "                 'SpecInt2k':{'cdyn_scale':0.9,'perf_scale':1.1}\n",
    "                 }\n",
    "           }"
   ]
  },
  {
   "cell_type": "code",
   "execution_count": 161,
   "metadata": {
    "collapsed": false
   },
   "outputs": [],
   "source": [
    "import copy\n",
    "data['a73']= copy.deepcopy(data['a57'])"
   ]
  },
  {
   "cell_type": "code",
   "execution_count": 168,
   "metadata": {
    "collapsed": false
   },
   "outputs": [],
   "source": [
    "data['a73']['SpecInt2k']['Power']=(data['a57']['SpecInt2k']['Cdyn']*scale['a73']['SpecInt2k']['cdyn_scale'])*(data['a57']['V']*scale['a73']['v_scale']**2.4)*(data['a57']['F']*scale['a73']['f_scale'])\n",
    "data['a73']['SpecInt2k']['Perf']=data['a57']['SpecInt2k']['Perf']*scale['a73']['SpecInt2k']['perf_scale']"
   ]
  },
  {
   "cell_type": "code",
   "execution_count": 169,
   "metadata": {
    "collapsed": false
   },
   "outputs": [
    {
     "data": {
      "text/plain": [
       "array([  850.,  1020.,  1190.,  1360.,  1530.,  1700.])"
      ]
     },
     "execution_count": 169,
     "metadata": {},
     "output_type": "execute_result"
    }
   ],
   "source": [
    "data['a57']['SpecInt2k']['Perf']"
   ]
  },
  {
   "cell_type": "code",
   "execution_count": 170,
   "metadata": {
    "collapsed": false
   },
   "outputs": [
    {
     "data": {
      "text/plain": [
       "{'a57': {'F': array([1000, 1200, 1400, 1600, 1800, 2000]),\n",
       "  'Leakage': array([100, 120, 140, 160, 180, 200]),\n",
       "  'SpecInt2k': {'Cdyn': 0.46,\n",
       "   'Perf': array([  850.,  1020.,  1190.,  1360.,  1530.,  1700.]),\n",
       "   'Power': array([  134.99597895,   234.51702366,   376.9657004 ,   571.55738029,\n",
       "            828.        ,  1156.45908364])},\n",
       "  'V': array([ 0.6,  0.7,  0.8,  0.9,  1. ,  1.1])},\n",
       " 'a73': {'F': array([1000, 1200, 1400, 1600, 1800, 2000]),\n",
       "  'Leakage': array([100, 120, 140, 160, 180, 200]),\n",
       "  'SpecInt2k': {'Cdyn': 0.46,\n",
       "   'Perf': array([  935.,  1122.,  1309.,  1496.,  1683.,  1870.]),\n",
       "   'Power': array([  273.24 ,   382.536,   510.048,   655.776,   819.72 ,  1001.88 ])},\n",
       "  'V': array([ 0.6,  0.7,  0.8,  0.9,  1. ,  1.1])}}"
      ]
     },
     "execution_count": 170,
     "metadata": {},
     "output_type": "execute_result"
    }
   ],
   "source": [
    "data"
   ]
  },
  {
   "cell_type": "code",
   "execution_count": 175,
   "metadata": {
    "collapsed": false
   },
   "outputs": [],
   "source": [
    "import json"
   ]
  },
  {
   "cell_type": "code",
   "execution_count": 176,
   "metadata": {
    "collapsed": false
   },
   "outputs": [],
   "source": [
    "df=pd.DataFrame(data)"
   ]
  },
  {
   "cell_type": "code",
   "execution_count": 177,
   "metadata": {
    "collapsed": true
   },
   "outputs": [],
   "source": [
    "df.to_json('dict.json')"
   ]
  },
  {
   "cell_type": "code",
   "execution_count": 178,
   "metadata": {
    "collapsed": false
   },
   "outputs": [
    {
     "data": {
      "text/plain": [
       "u'C:\\\\Users\\\\Aravindh\\\\aws-ec2'"
      ]
     },
     "execution_count": 178,
     "metadata": {},
     "output_type": "execute_result"
    }
   ],
   "source": [
    "%pwd"
   ]
  },
  {
   "cell_type": "code",
   "execution_count": 179,
   "metadata": {
    "collapsed": false
   },
   "outputs": [
    {
     "name": "stdout",
     "output_type": "stream",
     "text": [
      " Volume in drive C has no label.\n",
      " Volume Serial Number is D626-6933\n",
      "\n",
      " Directory of C:\\Users\\Aravindh\\aws-ec2\n",
      "\n",
      "03/01/2017  10:23 PM    <DIR>          .\n",
      "03/01/2017  10:23 PM    <DIR>          ..\n",
      "03/01/2017  10:20 PM    <DIR>          .ipynb_checkpoints\n",
      "02/19/2017  07:50 AM            18,180 cnn.xlsx\n",
      "03/01/2017  12:00 AM               164 config.json\n",
      "03/01/2017  12:09 AM               196 config.yaml\n",
      "02/22/2017  11:41 AM            14,955 conv.xlsx\n",
      "03/01/2017  10:23 PM            13,386 dict.ipynb\n",
      "03/01/2017  10:24 PM               521 dict.json\n",
      "02/21/2017  11:33 AM         2,667,431 dogs_cats_redux_ab.ipynb\n",
      "02/22/2017  11:22 AM           319,359 dogs-and-cats-vgg16.ipynb\n",
      "02/27/2017  09:48 PM             2,048 example.db\n",
      "02/26/2017  05:50 AM            26,171 geomean.xlsx\n",
      "03/01/2017  12:11 AM             2,581 json_yaml.ipynb\n",
      "02/20/2017  03:36 PM             2,691 Keras.ipynb\n",
      "03/01/2017  09:01 AM           126,636 matplotlib.ipynb\n",
      "02/28/2017  10:54 PM               894 mplt.py\n",
      "02/28/2017  10:55 PM             1,194 mplt2.py\n",
      "02/19/2017  10:41 AM                36 myvgg.py\n",
      "02/28/2017  07:18 PM            39,466 numpy.ipynb\n",
      "02/20/2017  03:36 PM         1,069,458 PIL Image.ipynb\n",
      "02/14/2017  09:33 PM                14 README\n",
      "02/20/2017  05:17 PM    <DIR>          results\n",
      "02/26/2017  10:56 AM            14,684 Spec.ipynb\n",
      "02/28/2017  11:28 AM             1,649 Spec.py\n",
      "02/27/2017  09:49 PM             2,117 sqlite.ipynb\n",
      "02/14/2017  09:33 PM                28 test\n",
      "03/01/2017  08:59 AM            43,444 test.png\n",
      "02/21/2017  10:23 AM                95 test.py\n",
      "02/14/2017  09:33 PM                22 test2\n",
      "02/15/2017  11:47 PM           190,331 tiger_1.jpg\n",
      "02/15/2017  11:56 PM           133,199 tiger_1-256x256\n",
      "02/23/2017  10:47 PM            15,506 tmp.txt\n",
      "02/22/2017  09:59 AM    <DIR>          utils\n",
      "02/20/2017  05:17 PM    <DIR>          valid\n",
      "02/20/2017  02:03 PM             9,556 vgg-16-keras.ipynb\n",
      "02/20/2017  07:08 PM           270,898 vgg-16-keras-module.ipynb\n",
      "02/18/2017  04:10 PM            12,177 Yahoo Finance.ipynb\n",
      "              32 File(s)      4,999,087 bytes\n",
      "               6 Dir(s)  461,754,433,536 bytes free\n"
     ]
    }
   ],
   "source": [
    "%ls"
   ]
  },
  {
   "cell_type": "code",
   "execution_count": null,
   "metadata": {
    "collapsed": true
   },
   "outputs": [],
   "source": []
  }
 ],
 "metadata": {
  "kernelspec": {
   "display_name": "Python 2",
   "language": "python",
   "name": "python2"
  },
  "language_info": {
   "codemirror_mode": {
    "name": "ipython",
    "version": 2
   },
   "file_extension": ".py",
   "mimetype": "text/x-python",
   "name": "python",
   "nbconvert_exporter": "python",
   "pygments_lexer": "ipython2",
   "version": "2.7.13"
  }
 },
 "nbformat": 4,
 "nbformat_minor": 2
}
